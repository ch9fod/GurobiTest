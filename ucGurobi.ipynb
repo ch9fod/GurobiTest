{
 "cells": [
  {
   "cell_type": "code",
   "execution_count": null,
   "metadata": {
    "collapsed": false
   },
   "outputs": [],
   "source": [
    "from gurobipy import *\n",
    "\n",
    "# Model data\n",
    "gens,maxGen,Co,a,b,suCo,ruLi,rdLi,ipOut,init=multidict({\n",
    "'gen1':[400.0,100.0,20.0,0.05,300.0,160.0,160.0,0.0,0.0],\n",
    "'gen2':[300.0,200.0,25.0,0.10,400.0,150.0,150.0,0.0,0.0],\n",
    "'gen3':[250.0,300.0,40.0,0.20,500.0,100.0,100.0,0.0,0.0]})\n",
    "\n",
    "t, demand, reLevel = multidict({\n",
    "'hour1': [260.0, 260.0*0.2],\n",
    "'hour2': [500.0, 500.0*0.2],\n",
    "'hour3': [700.0, 700.0*0.2],\n",
    "'hour4': [300.0, 300.0*0.2]})"
   ]
  },
  {
   "cell_type": "code",
   "execution_count": null,
   "metadata": {
    "collapsed": false
   },
   "outputs": [],
   "source": [
    "# Create optimization model\n",
    "m = Model('UC')"
   ]
  },
  {
   "cell_type": "markdown",
   "metadata": {
    "collapsed": true
   },
   "source": [
    "## Generation per Unit Variables"
   ]
  },
  {
   "cell_type": "markdown",
   "metadata": {},
   "source": [
    "$$P_{Gjt} \\quad \\forall j, \\forall t$$"
   ]
  },
  {
   "cell_type": "code",
   "execution_count": null,
   "metadata": {
    "collapsed": false
   },
   "outputs": [],
   "source": [
    "# variable for generations per unit per hour\n",
    "genPhour = {}\n",
    "for g in gens:\n",
    "    for h in t:\n",
    "        # 12 variables\n",
    "        genPhour[g,h] = m.addVar(lb=0.0, ub=maxGen[g])\n",
    "        # initial value 0.0\n",
    "        genPhour[g,h].start = 0.0\n",
    "#update model\n",
    "m.update()        "
   ]
  },
  {
   "cell_type": "markdown",
   "metadata": {},
   "source": [
    "## Status on/off variables"
   ]
  },
  {
   "cell_type": "markdown",
   "metadata": {},
   "source": [
    "$$ u_{jt} = \\{0,1\\}\\quad \\forall j, \\forall t$$"
   ]
  },
  {
   "cell_type": "code",
   "execution_count": null,
   "metadata": {
    "collapsed": true
   },
   "outputs": [],
   "source": [
    "# variable for generations per unit per hour\n",
    "ujt = {}\n",
    "for g in gens:\n",
    "    for h in t:\n",
    "        # 12 variables\n",
    "        ujt[g,h] = m.addVar(vtype=GRB.BINARY)\n",
    "        # initial value 0\n",
    "        ujt[g,h].start = 0\n",
    "#update model\n",
    "m.update()      "
   ]
  },
  {
   "cell_type": "markdown",
   "metadata": {},
   "source": [
    "## Objective"
   ]
  },
  {
   "cell_type": "markdown",
   "metadata": {},
   "source": [
    "$$ min \\sum_{t=1}^T\\sum_{j=1}^n C_{jt}(u_{jt},P_{Gjt})+C_{jt}^{SU}$$"
   ]
  },
  {
   "cell_type": "markdown",
   "metadata": {},
   "source": [
    "$$C_{jt}(u_{jt},P_{Gjt})=u_{jt}C_{0j}+a_jP_{Gjt}+\\frac{1}{2}b_jP_{Gjt}^2\\quad \\forall j, \\forall t$$"
   ]
  },
  {
   "cell_type": "code",
   "execution_count": null,
   "metadata": {
    "collapsed": true
   },
   "outputs": [],
   "source": [
    "# objective\n",
    "# obj = LinExpr()\n",
    "# for g in gens:\n",
    "#     for h in t:\n",
    "#         obj += m.addVar(vtype=GRB.BINARY)\n",
    "m.setObjective(sum(buy[i]*cost[j] for i,j in genPhour), GRB.MINIMIZE)"
   ]
  },
  {
   "cell_type": "markdown",
   "metadata": {},
   "source": [
    "## Constraint for supply-demand"
   ]
  },
  {
   "cell_type": "markdown",
   "metadata": {},
   "source": [
    "$$\\sum_{j=1}^n P_{Gjt} = P_{Dt} \\quad \\forall j, \\forall t$$"
   ]
  },
  {
   "cell_type": "code",
   "execution_count": null,
   "metadata": {
    "collapsed": false
   },
   "outputs": [],
   "source": [
    "for i,j in genP"
   ]
  },
  {
   "cell_type": "code",
   "execution_count": null,
   "metadata": {
    "collapsed": false
   },
   "outputs": [],
   "source": [
    "# print(gen)\n",
    "# print(gen['gen3'].getAttr('UB'))\n",
    "\n",
    "# print reLevel\n",
    "\n",
    "# #number of variables\n",
    "# print(m.numVars)\n",
    "\n",
    "# print(maxGen['gen2'])\n",
    "# print(m.numVars)\n",
    "# print(genPhour)\n",
    "# print(genPhour['gen3','hour1'].getAttr('UB'))\n",
    "# print(genPhour['gen3','hour1'].getAttr('start'))\n",
    "# print(ujt['gen3','hour1'].getAttr('LB'))\n",
    "\n",
    "#variable for generations per unit\n",
    "#gen = m.addVars(gens, lb=0.0, ub=maxGen, name='gen')\n",
    "\n",
    "# m.addConstrs(\n",
    "# (quicksum(nutritionValues[f,c] * buy[f] for f in foods) == nutrition[c]\n",
    "# for c in categories), \"_\")"
   ]
  },
  {
   "cell_type": "code",
   "execution_count": null,
   "metadata": {
    "collapsed": true
   },
   "outputs": [],
   "source": []
  },
  {
   "cell_type": "code",
   "execution_count": null,
   "metadata": {
    "collapsed": false
   },
   "outputs": [],
   "source": [
    "#constraints\n",
    "def generation_r(model,i):\n",
    "    return (model.Pmin[i] , model.P[i] , model.Pmax[i])\n",
    "model.GenCon = Constraint(model.G, rule = generation_r)\n",
    "\n",
    "def demand_r(model):\n",
    "    return model.D == sum(model.P[i] for i in model.G)\n",
    "model.DemandCon = Constraint(model.G, rule = demand_r)\n",
    "\n",
    "def slack_r(model):\n",
    "    return model.Angles[1] == 0\n",
    "model.SlackBusCon = Constraint(rule=slack_r)\n",
    "\n",
    "def bus_r(model,i):\n",
    "    if i == 4:\n",
    "        return(-model.Loads[i] == \n",
    "              ((model.BaseP/model.X[i,i-1])*\n",
    "               (model.Angles[i]-model.Angles[i-1]) + \n",
    "               (model.BaseP/model.X[i,i-3])*\n",
    "               (model.Angles[i]-model.Angles[i-3])))\n",
    "    elif i == 1:\n",
    "        return((model.P[i] - model.Loads[i]) == \n",
    "              ((model.BaseP/model.X[i,i+1])*\n",
    "               (model.Angles[i]-model.Angles[i+1]) + \n",
    "               (model.BaseP/model.X[i,i+3])*\n",
    "               (model.Angles[i]-model.Angles[i+3])))    \n",
    "    else:\n",
    "        return((model.P[i] - model.Loads[i]) ==     \n",
    "              ((model.BaseP/model.X[i,i+1])*\n",
    "               (model.Angles[i]-model.Angles[i+1]) +\n",
    "               (model.BaseP/model.X[i,i-1])*\n",
    "               (model.Angles[i]-model.Angles[i-1])))\n",
    "model.BusCon = Constraint(model.Bus, rule=bus_r)\n",
    "\n",
    "def flow_r(model,i,j):\n",
    "    if i == j:\n",
    "        return Constraint.Skip\n",
    "    return (model.PFmin , \n",
    "            (model.BaseP/model.X[i,j])*(model.Angles[i]-model.Angles[j]) , \n",
    "            model.PFmax)\n",
    "model.FlowCon = Constraint(model.Bus, model.Bus, rule=flow_r)"
   ]
  },
  {
   "cell_type": "code",
   "execution_count": null,
   "metadata": {
    "collapsed": false
   },
   "outputs": [],
   "source": [
    "#objective\n",
    "def cost_rule(model):\n",
    "    return sum(model.a[i]*model.P[i] + \n",
    "               0.5*model.b[i]*model.P[i]**2\n",
    "              for i in model.G)\n",
    "#default is to minimize        \n",
    "model.OBJ = Objective(rule=cost_rule) "
   ]
  },
  {
   "cell_type": "code",
   "execution_count": null,
   "metadata": {
    "collapsed": false
   },
   "outputs": [],
   "source": [
    "if solverexe == \"gurobi\":\n",
    "    solver = SolverFactory(solverexe)   \n",
    "else:\n",
    "    solver = SolverFactory(solverexe, \n",
    "                           executable=os.path.join(dirsolver, solverexe))\n",
    "instance = model.create_instance()\n",
    "instance.dual = Suffix(direction=Suffix.IMPORT)\n",
    "results = solver.solve(instance)"
   ]
  },
  {
   "cell_type": "code",
   "execution_count": null,
   "metadata": {
    "collapsed": false
   },
   "outputs": [],
   "source": [
    "instance.display()"
   ]
  },
  {
   "cell_type": "code",
   "execution_count": null,
   "metadata": {
    "collapsed": false
   },
   "outputs": [],
   "source": [
    "instance.pprint()"
   ]
  },
  {
   "cell_type": "code",
   "execution_count": null,
   "metadata": {
    "collapsed": false
   },
   "outputs": [],
   "source": [
    "print (\"Total cost: \", \"{:,}\".format(round(value(instance.OBJ),2)))"
   ]
  },
  {
   "cell_type": "code",
   "execution_count": null,
   "metadata": {
    "collapsed": false
   },
   "outputs": [],
   "source": [
    "print (\"Duals\")\n",
    "from pyomo.core import Constraint\n",
    "for c in instance.component_objects(Constraint, active=True):\n",
    "    print (\"   Constraint\",c)\n",
    "    cobject = getattr(instance, str(c))\n",
    "    for index in cobject:\n",
    "        print (\"      \", index, instance.dual[cobject[index]])"
   ]
  }
 ],
 "metadata": {
  "kernelspec": {
   "display_name": "Python 2",
   "language": "python",
   "name": "python2"
  },
  "language_info": {
   "codemirror_mode": {
    "name": "ipython",
    "version": 2
   },
   "file_extension": ".py",
   "mimetype": "text/x-python",
   "name": "python",
   "nbconvert_exporter": "python",
   "pygments_lexer": "ipython2",
   "version": "2.7.13"
  }
 },
 "nbformat": 4,
 "nbformat_minor": 2
}
