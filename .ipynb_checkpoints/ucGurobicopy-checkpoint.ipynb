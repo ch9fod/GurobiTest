{
 "cells": [
  {
   "cell_type": "code",
   "execution_count": 1,
   "metadata": {
    "collapsed": false
   },
   "outputs": [],
   "source": [
    "from gurobipy import *\n",
    "\n",
    "# Model data\n",
    "gens,maxGen,Co,a,b,suCo,ruLi,rdLi,ipOut,init=multidict({\n",
    "'g1':[400.0,100.0,20.0,0.05,300.0,160.0,160.0,0.0,0.0],\n",
    "'g2':[300.0,200.0,25.0,0.10,400.0,150.0,150.0,0.0,0.0],\n",
    "'g3':[250.0,300.0,40.0,0.20,500.0,100.0,100.0,0.0,0.0]})\n",
    "\n",
    "times, demand, reLevel = multidict({\n",
    "'h1': [260.0, 260.0*0.2],\n",
    "'h2': [500.0, 500.0*0.2],\n",
    "'h3': [700.0, 700.0*0.2],\n",
    "'h4': [300.0, 300.0*0.2]})\n",
    "\n",
    "# auxiliar list\n",
    "g2=['g1','g2','g3']\n",
    "t2=['h1','h2','h3','h4']"
   ]
  },
  {
   "cell_type": "code",
   "execution_count": 2,
   "metadata": {
    "collapsed": false
   },
   "outputs": [],
   "source": [
    "# Create optimization model\n",
    "m = Model('UC')"
   ]
  },
  {
   "cell_type": "markdown",
   "metadata": {
    "collapsed": true
   },
   "source": [
    "## Generation per Unit Variables $\\quad P_{Gjt} \\quad \\forall j, \\forall t$"
   ]
  },
  {
   "cell_type": "code",
   "execution_count": 3,
   "metadata": {
    "collapsed": false
   },
   "outputs": [],
   "source": [
    "# variable for generations per unit per hour\n",
    "Pg = {}\n",
    "for g in gens:\n",
    "    for t in times:\n",
    "        # 12 variables\n",
    "        Pg[g,t] = m.addVar(lb=0.0, ub=maxGen[g], name='Pg'+'[%s,%s]'%(g,t))\n",
    "        # initial value 0.0\n",
    "        Pg[g,t].start = 0.0     "
   ]
  },
  {
   "cell_type": "markdown",
   "metadata": {},
   "source": [
    "## Status on/off variables   $\\quad u_{jt} = \\{0,1\\} \\quad \\forall j, \\forall t$"
   ]
  },
  {
   "cell_type": "code",
   "execution_count": 4,
   "metadata": {
    "collapsed": false
   },
   "outputs": [],
   "source": [
    "# variable for generations per unit per hour\n",
    "u = {}\n",
    "for g in gens:\n",
    "    for t in times:\n",
    "        # 12 variables\n",
    "        u[g,t] = m.addVar(vtype=GRB.BINARY, name='u'+'[%s,%s]'%(g,t))\n",
    "        # initial value 0\n",
    "        u[g,t].start = 0    "
   ]
  },
  {
   "cell_type": "markdown",
   "metadata": {},
   "source": [
    "## StartUp Cost variables $ \\quad C_{jt}^{SU} $"
   ]
  },
  {
   "cell_type": "code",
   "execution_count": 5,
   "metadata": {
    "collapsed": true
   },
   "outputs": [],
   "source": [
    "su = {}\n",
    "for g in gens:\n",
    "    for t in times:\n",
    "        # 12 variables\n",
    "        su[g,t] = m.addVar(lb=0.0, name='su'+'[%s,%s]'%(g,t))"
   ]
  },
  {
   "cell_type": "markdown",
   "metadata": {},
   "source": [
    "## Objective\n",
    "$$ min \\sum_{t=1}^T\\sum_{j=1}^n C_{jt}(u_{jt},P_{Gjt})+C_{jt}^{SU}$$"
   ]
  },
  {
   "cell_type": "code",
   "execution_count": 6,
   "metadata": {
    "collapsed": false
   },
   "outputs": [],
   "source": [
    "m.setObjective(sum(u[g,t]*Co[g] +\n",
    "                   a[g]*Pg[g,t] +\n",
    "                   0.5*b[g]*Pg[g,t]*Pg[g,t] +\n",
    "                   su[g,t]\n",
    "                   for g in gens \n",
    "                   for t in times), \n",
    "                   GRB.MINIMIZE)"
   ]
  },
  {
   "cell_type": "markdown",
   "metadata": {},
   "source": [
    "## Min-Max Generation Constraint \n",
    "$ u_{jt}P_{Gjt}^{min} \\le P_{Gjt} \\le u_{jt}P_{Gjt}^{max}$"
   ]
  },
  {
   "cell_type": "code",
   "execution_count": 7,
   "metadata": {
    "collapsed": false
   },
   "outputs": [
    {
     "data": {
      "text/plain": [
       "{('g1', 'h1'): <gurobi.Constr *Awaiting Model Update*>,\n",
       " ('g1', 'h2'): <gurobi.Constr *Awaiting Model Update*>,\n",
       " ('g1', 'h3'): <gurobi.Constr *Awaiting Model Update*>,\n",
       " ('g1', 'h4'): <gurobi.Constr *Awaiting Model Update*>,\n",
       " ('g2', 'h1'): <gurobi.Constr *Awaiting Model Update*>,\n",
       " ('g2', 'h2'): <gurobi.Constr *Awaiting Model Update*>,\n",
       " ('g2', 'h3'): <gurobi.Constr *Awaiting Model Update*>,\n",
       " ('g2', 'h4'): <gurobi.Constr *Awaiting Model Update*>,\n",
       " ('g3', 'h1'): <gurobi.Constr *Awaiting Model Update*>,\n",
       " ('g3', 'h2'): <gurobi.Constr *Awaiting Model Update*>,\n",
       " ('g3', 'h3'): <gurobi.Constr *Awaiting Model Update*>,\n",
       " ('g3', 'h4'): <gurobi.Constr *Awaiting Model Update*>}"
      ]
     },
     "execution_count": 7,
     "metadata": {},
     "output_type": "execute_result"
    }
   ],
   "source": [
    "m.addConstrs((Pg[g,t] >= 0.0 \n",
    "              for g in gens\n",
    "              for t in times),\n",
    "              name='pMin')\n",
    "m.addConstrs((u[g,t]*maxGen[g] >= Pg[g,t]\n",
    "              for g in gens\n",
    "              for t in times),\n",
    "              name='pMax')"
   ]
  },
  {
   "cell_type": "markdown",
   "metadata": {},
   "source": [
    "## Constraint for supply-demand \n",
    "$\\sum_{j=1}^n P_{Gjt} = P_{Dt} \\quad \\forall j, \\forall t$"
   ]
  },
  {
   "cell_type": "code",
   "execution_count": 8,
   "metadata": {
    "collapsed": false
   },
   "outputs": [
    {
     "data": {
      "text/plain": [
       "{'h1': <gurobi.Constr *Awaiting Model Update*>,\n",
       " 'h2': <gurobi.Constr *Awaiting Model Update*>,\n",
       " 'h3': <gurobi.Constr *Awaiting Model Update*>,\n",
       " 'h4': <gurobi.Constr *Awaiting Model Update*>}"
      ]
     },
     "execution_count": 8,
     "metadata": {},
     "output_type": "execute_result"
    }
   ],
   "source": [
    "m.addConstrs(\n",
    "    (quicksum(Pg[g,t] for g in gens) == demand[t]\n",
    "     for t in times), name='meetDemand')"
   ]
  },
  {
   "cell_type": "markdown",
   "metadata": {},
   "source": [
    "## Constraint for RampDown "
   ]
  },
  {
   "cell_type": "code",
   "execution_count": 9,
   "metadata": {
    "collapsed": false
   },
   "outputs": [],
   "source": [
    "for g in gens:\n",
    "    for t in range(4):\n",
    "        if t == 0:\n",
    "            continue\n",
    "        m.addConstr(Pg[g,t2[t-1]] - Pg[g,t2[t]] <= rdLi[g], \n",
    "                    name='rampDown'+'[%s,%s]'%(g,t2[t]))"
   ]
  },
  {
   "cell_type": "markdown",
   "metadata": {},
   "source": [
    "## Constraint for RampUp"
   ]
  },
  {
   "cell_type": "code",
   "execution_count": 10,
   "metadata": {
    "collapsed": true
   },
   "outputs": [],
   "source": [
    "for g in gens:\n",
    "    for t in range(4):\n",
    "        if t == 0:\n",
    "            continue\n",
    "        m.addConstr(Pg[g,t2[t]] - Pg[g,t2[t-1]] <= ruLi[g], \n",
    "                    name='rampUp'+'[%s,%s]'%(g,t2[t]))"
   ]
  },
  {
   "cell_type": "markdown",
   "metadata": {
    "collapsed": false
   },
   "source": [
    "## Constraint for StartUp Cost"
   ]
  },
  {
   "cell_type": "code",
   "execution_count": 11,
   "metadata": {
    "collapsed": false
   },
   "outputs": [],
   "source": [
    "for g in gens:\n",
    "    for t in range(4):\n",
    "        s = 'cSUcons'+'[%s,%s]'%(g,t2[t]) \n",
    "        if t == 0:\n",
    "            m.addConstr(su[g,t2[t]] >= suCo[g]*(u[g,t2[t]]), \n",
    "                    name = s)\n",
    "            continue\n",
    "        m.addConstr(su[g,t2[t]] >= suCo[g]*(u[g,t2[t]] - u[g,t2[t-1]]), \n",
    "                    name = s)"
   ]
  },
  {
   "cell_type": "markdown",
   "metadata": {},
   "source": [
    "## Constraint for Demand + Reserve"
   ]
  },
  {
   "cell_type": "code",
   "execution_count": 12,
   "metadata": {
    "collapsed": false
   },
   "outputs": [
    {
     "data": {
      "text/plain": [
       "{'h1': <gurobi.Constr *Awaiting Model Update*>,\n",
       " 'h2': <gurobi.Constr *Awaiting Model Update*>,\n",
       " 'h3': <gurobi.Constr *Awaiting Model Update*>,\n",
       " 'h4': <gurobi.Constr *Awaiting Model Update*>}"
      ]
     },
     "execution_count": 12,
     "metadata": {},
     "output_type": "execute_result"
    }
   ],
   "source": [
    "m.addConstrs(\n",
    "    (quicksum(u[g,t] * maxGen[g] for g in gens) >= \n",
    "     demand[t] + reLevel[t]\n",
    "     for t in times), name='dPlusRe')"
   ]
  },
  {
   "cell_type": "code",
   "execution_count": 13,
   "metadata": {
    "collapsed": false
   },
   "outputs": [
    {
     "name": "stdout",
     "output_type": "stream",
     "text": [
      "Optimize a model with 62 rows, 36 columns and 129 nonzeros\n",
      "Model has 12 quadratic objective terms\n",
      "Variable types: 24 continuous, 12 integer (12 binary)\n",
      "Coefficient statistics:\n",
      "  Matrix range     [1e+00, 5e+02]\n",
      "  Objective range  [1e+00, 3e+02]\n",
      "  QObjective range [5e-02, 2e-01]\n",
      "  Bounds range     [1e+00, 4e+02]\n",
      "  RHS range        [1e+02, 8e+02]\n",
      "Found heuristic solution: objective 2.40001e+10\n",
      "Presolve removed 28 rows and 14 columns\n",
      "Presolve time: 0.00s\n",
      "Presolved: 34 rows, 22 columns, 96 nonzeros\n",
      "Presolved model has 12 quadratic objective terms\n",
      "\n",
      "MIP start did not produce a new incumbent solution\n",
      "MIP start violates constraint meetDemand[h2] by 500.000000000\n",
      "\n",
      "Found heuristic solution: objective 4.000062e+09\n",
      "Variable types: 14 continuous, 8 integer (8 binary)\n",
      "\n",
      "Root relaxation: objective 5.587137e+04, 37 iterations, 0.00 seconds\n",
      "\n",
      "    Nodes    |    Current Node    |     Objective Bounds      |     Work\n",
      " Expl Unexpl |  Obj  Depth IntInf | Incumbent    BestBd   Gap | It/Node Time\n",
      "\n",
      "     0     0 55871.3692    0    5 4.0001e+09 55871.3692   100%     -    0s\n",
      "H    0     0                    56078.333333 55871.3692  0.37%     -    0s\n",
      "     0     0 55923.7929    0    1 56078.3333 55923.7929  0.28%     -    0s\n",
      "\n",
      "Cutting planes:\n",
      "  Implied bound: 1\n",
      "\n",
      "Explored 0 nodes (45 simplex iterations) in 0.11 seconds\n",
      "Thread count was 8 (of 8 available processors)\n",
      "\n",
      "Solution count 3: 56078.3 4.00006e+09 4.00006e+09 \n",
      "Pool objective bound 56078.3\n",
      "\n",
      "Optimal solution found (tolerance 1.00e-04)\n",
      "Best objective 5.607833333333e+04, best bound 5.607833333333e+04, gap 0.0000%\n"
     ]
    }
   ],
   "source": [
    "m.optimize()"
   ]
  },
  {
   "cell_type": "code",
   "execution_count": 19,
   "metadata": {
    "collapsed": false
   },
   "outputs": [
    {
     "data": {
      "text/plain": [
       "<matplotlib.text.Text at 0x47a7978>"
      ]
     },
     "execution_count": 19,
     "metadata": {},
     "output_type": "execute_result"
    },
    {
     "data": {
      "image/png": "[encoded data removed]",
      "text/plain": [
       "<matplotlib.figure.Figure at 0x2b05fd0>"
      ]
     },
     "metadata": {},
     "output_type": "display_data"
    }
   ],
   "source": [
    "%matplotlib inline\n",
    "import numpy as np\n",
    "import matplotlib\n",
    "import pandas as pd\n",
    "matplotlib.style.use('ggplot')\n",
    "a = np.zeros(4)\n",
    "b = np.zeros(4)\n",
    "c = np.zeros(4)\n",
    "for v in m.getVars():\n",
    "    if v.varName[0:2] == 'Pg':\n",
    "        if v.varName[3:5] == 'g1':\n",
    "            a[int(v.varName[7:8])-1] = v.X\n",
    "        elif v.varName[3:5] == 'g2':\n",
    "            b[int(v.varName[7:8])-1] = v.X\n",
    "        else:\n",
    "            c[int(v.varName[7:8])-1] = v.X\n",
    "data = [a,b,c]\n",
    "data = np.asarray(data).T.tolist()\n",
    "ind = np.arange(1,5)\n",
    "df2 = pd.DataFrame(data, columns=['Gen1', 'Gen2', 'Gen3'], index=ind)\n",
    "ax = df2.plot.bar(title ='Generation per Unit per Hour', figsize=(10, 10),stacked=True)\n",
    "ax.set_xlabel(\"Time\")\n",
    "ax.set_ylabel(\"MW\")\n",
    "ax.text(0, 650, 'Final Cost: $'+\"{0:,.1f}\".format(m.objVal), fontsize=15)"
   ]
  },
  {
   "cell_type": "code",
   "execution_count": 20,
   "metadata": {
    "collapsed": false
   },
   "outputs": [
    {
     "name": "stdout",
     "output_type": "stream",
     "text": [
      "\n",
      "Statistics for model UC :\n",
      "  Linear constraint matrix    : 62 Constrs, 36 Vars, 129 NZs\n",
      "  Variable types              : 24 Continuous, 12 Integer (12 Binary)\n",
      "  Matrix coefficient range    : [ 1, 500 ]\n",
      "  Objective coefficient range : [ 1, 300 ]\n",
      "  Variable bound range        : [ 1, 400 ]\n",
      "  RHS coefficient range       : [ 100, 840 ]\n"
     ]
    }
   ],
   "source": [
    "m.printStats()"
   ]
  },
  {
   "cell_type": "code",
   "execution_count": 15,
   "metadata": {
    "collapsed": true
   },
   "outputs": [],
   "source": [
    "# print(gens)\n",
    "# print(gen['gen3'].getAttr('UB'))\n",
    "\n",
    "#print(m.getObjective())\n",
    "# print(m.getConstrs())\n",
    "# print(m.getConstrs()[25])\n",
    "# print(m.getConstrs()[25].getAttr('sense'))\n",
    "# print(m.getConstrs()[25].getAttr('rhs'))\n",
    "\n",
    "# print reLevel\n",
    "\n",
    "# #number of variables\n",
    "# print(m.numVars)\n",
    "\n",
    "# print(maxGen['gen2'])\n",
    "# print(m.numVars)\n",
    "# print(genPhour)\n",
    "# print(genPhour['gen3','hour1'].getAttr('UB'))\n",
    "# print(genPhour['gen3','hour1'].getAttr('start'))\n",
    "# print(ujt['gen3','hour1'].getAttr('LB'))\n",
    "\n",
    "#variable for generations per unit\n",
    "#gen = m.addVars(gens, lb=0.0, ub=maxGen, name='gen')\n",
    "\n",
    "# m.addConstrs(\n",
    "# (quicksum(nutritionValues[f,c] * buy[f] for f in foods) == nutrition[c]\n",
    "# for c in categories), \"_\")\n",
    "\n",
    "# for t in range(4):\n",
    "#     if t2[t-1] == 'h5':\n",
    "#         print('t ' + t2[t])\n",
    "#         print('t-1 0')\n",
    "#         continue\n",
    "#     print('t ' + t2[t])\n",
    "#     print('t-1 ' + t2[t-1])\n",
    "\n",
    "#             m.addConstr(0.0 - Pg[g,t2[t]] <= rdLi[g],\n",
    "#                         name='rampDown'+'[%s,%s]'%(g,t2[t]))"
   ]
  }
 ],
 "metadata": {
  "kernelspec": {
   "display_name": "Python 2",
   "language": "python",
   "name": "python2"
  },
  "language_info": {
   "codemirror_mode": {
    "name": "ipython",
    "version": 2
   },
   "file_extension": ".py",
   "mimetype": "text/x-python",
   "name": "python",
   "nbconvert_exporter": "python",
   "pygments_lexer": "ipython2",
   "version": "2.7.13"
  }
 },
 "nbformat": 4,
 "nbformat_minor": 2
}
