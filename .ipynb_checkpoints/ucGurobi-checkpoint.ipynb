{
 "cells": [
  {
   "cell_type": "code",
   "execution_count": 1,
   "metadata": {
    "collapsed": false
   },
   "outputs": [],
   "source": [
    "from gurobipy import *\n",
    "\n",
    "# Model data\n",
    "gens,maxGen,Co,a,b,suCo,ruLi,rdLi,ipOut,init=multidict({\n",
    "'g1':[400.0,100.0,20.0,0.05,300.0,160.0,160.0,0.0,0.0],\n",
    "'g2':[300.0,200.0,25.0,0.10,400.0,150.0,150.0,0.0,0.0],\n",
    "'g3':[250.0,300.0,40.0,0.20,500.0,100.0,100.0,0.0,0.0]})\n",
    "\n",
    "times, demand, reLevel = multidict({\n",
    "'h1': [260.0, 260.0*0.2],\n",
    "'h2': [500.0, 500.0*0.2],\n",
    "'h3': [700.0, 700.0*0.2],\n",
    "'h4': [300.0, 300.0*0.2]})\n",
    "\n",
    "# auxiliar list\n",
    "t2=['h1','h2','h3','h4','h5']"
   ]
  },
  {
   "cell_type": "code",
   "execution_count": 2,
   "metadata": {
    "collapsed": false
   },
   "outputs": [],
   "source": [
    "# Create optimization model\n",
    "m = Model('UC')"
   ]
  },
  {
   "cell_type": "markdown",
   "metadata": {
    "collapsed": true
   },
   "source": [
    "## Generation per Unit Variables $\\quad P_{Gjt} \\quad \\forall j, \\forall t$"
   ]
  },
  {
   "cell_type": "code",
   "execution_count": 3,
   "metadata": {
    "collapsed": false
   },
   "outputs": [],
   "source": [
    "# variable for generations per unit per hour\n",
    "Pg = {}\n",
    "for g in gens:\n",
    "    for t in times:\n",
    "        # 12 variables\n",
    "        Pg[g,t] = m.addVar(lb=0.0, ub=maxGen[g], name='Pg'+'[%s,%s]'%(g,t))\n",
    "        # initial value 0.0\n",
    "        Pg[g,t].start = 0.0\n",
    "#update model\n",
    "m.update()        "
   ]
  },
  {
   "cell_type": "markdown",
   "metadata": {},
   "source": [
    "## Status on/off variables   $\\quad u_{jt} = \\{0,1\\} \\quad \\forall j, \\forall t$"
   ]
  },
  {
   "cell_type": "code",
   "execution_count": 4,
   "metadata": {
    "collapsed": false
   },
   "outputs": [],
   "source": [
    "# variable for generations per unit per hour\n",
    "u = {}\n",
    "for g in gens:\n",
    "    for t in times:\n",
    "        # 12 variables\n",
    "        u[g,t] = m.addVar(vtype=GRB.BINARY, name='u'+'[%s,%s]'%(g,t))\n",
    "        # initial value 0\n",
    "        u[g,t].start = 0\n",
    "#update model\n",
    "m.update()      "
   ]
  },
  {
   "cell_type": "markdown",
   "metadata": {},
   "source": [
    "## StartUp Cost variables $ \\quad C_{jt}^{SU} $"
   ]
  },
  {
   "cell_type": "code",
   "execution_count": 5,
   "metadata": {
    "collapsed": true
   },
   "outputs": [],
   "source": [
    "# variable for Startup Costs per hour\n",
    "su = {}\n",
    "for g in gens:\n",
    "    for t in times:\n",
    "        # 12 variables\n",
    "        su[g,t] = m.addVar(name='su'+'[%s,%s]'%(g,t))\n",
    "        # initial value 0\n",
    "        #su[g,t].start = 0\n",
    "#update model\n",
    "m.update()   "
   ]
  },
  {
   "cell_type": "markdown",
   "metadata": {},
   "source": [
    "## Objective\n",
    "$ min \\sum_{t=1}^T\\sum_{j=1}^n C_{jt}(u_{jt},P_{Gjt})+C_{jt}^{SU}$"
   ]
  },
  {
   "cell_type": "code",
   "execution_count": 6,
   "metadata": {
    "collapsed": false
   },
   "outputs": [],
   "source": [
    "m.setObjective(sum(u[g,t]*Co[g] +\n",
    "                   a[g]*Pg[g,t] +\n",
    "                   0.5*b[g]*Pg[g,t]*Pg[g,t] +\n",
    "                   su[g,t]\n",
    "                   for g in gens \n",
    "                   for t in times), \n",
    "                   GRB.MINIMIZE)\n",
    "m.update()"
   ]
  },
  {
   "cell_type": "markdown",
   "metadata": {},
   "source": [
    "## Min-Max Generation Constraint \n",
    "$ u_{jt}P_{Gjt}^{min} \\le P_{Gjt} \\le u_{jt}P_{Gjt}^{max}$"
   ]
  },
  {
   "cell_type": "code",
   "execution_count": 7,
   "metadata": {
    "collapsed": true
   },
   "outputs": [],
   "source": [
    "m.addConstrs((Pg[g,t] >= 0.0 \n",
    "              for g in gens\n",
    "              for t in times),\n",
    "              name='pMin')\n",
    "m.addConstrs((u[g,t]*maxGen[g] >= Pg[g,t]\n",
    "              for g in gens\n",
    "              for t in times),\n",
    "              name='pMax')\n",
    "m.update()"
   ]
  },
  {
   "cell_type": "markdown",
   "metadata": {},
   "source": [
    "## Constraint for supply-demand \n",
    "$\\sum_{j=1}^n P_{Gjt} = P_{Dt} \\quad \\forall j, \\forall t$"
   ]
  },
  {
   "cell_type": "code",
   "execution_count": 8,
   "metadata": {
    "collapsed": false
   },
   "outputs": [],
   "source": [
    "m.addConstrs(\n",
    "    (quicksum(Pg[g,t] for g in gens) == demand[t]\n",
    "     for t in times), name='meetDemand')\n",
    "m.update()"
   ]
  },
  {
   "cell_type": "markdown",
   "metadata": {},
   "source": [
    "## Constraint for RampDown "
   ]
  },
  {
   "cell_type": "code",
   "execution_count": 9,
   "metadata": {
    "collapsed": true
   },
   "outputs": [],
   "source": [
    "for g in gens:\n",
    "    for t in range(4):\n",
    "        if t2[t-1] == 'h5':\n",
    "            m.addConstr(0.0 - Pg[g,t2[t]] <= rdLi[g],\n",
    "                        name='rampDown'+'[%s,%s]'%(g,t2[t]))\n",
    "            continue\n",
    "        m.addConstr(Pg[g,t2[t-1]] - Pg[g,t2[t]] <= rdLi[g], \n",
    "                    name='rampDown'+'[%s,%s]'%(g,t2[t]))\n",
    "m.update()"
   ]
  },
  {
   "cell_type": "markdown",
   "metadata": {},
   "source": [
    "## Constraint for RampUp"
   ]
  },
  {
   "cell_type": "code",
   "execution_count": null,
   "metadata": {
    "collapsed": true
   },
   "outputs": [],
   "source": []
  },
  {
   "cell_type": "code",
   "execution_count": 10,
   "metadata": {
    "collapsed": false
   },
   "outputs": [
    {
     "name": "stdout",
     "output_type": "stream",
     "text": [
      "[<gurobi.Constr pMin[g3,h2]>, <gurobi.Constr pMin[g3,h3]>, <gurobi.Constr pMin[g3,h1]>, <gurobi.Constr pMin[g3,h4]>, <gurobi.Constr pMin[g2,h2]>, <gurobi.Constr pMin[g2,h3]>, <gurobi.Constr pMin[g2,h1]>, <gurobi.Constr pMin[g2,h4]>, <gurobi.Constr pMin[g1,h2]>, <gurobi.Constr pMin[g1,h3]>, <gurobi.Constr pMin[g1,h1]>, <gurobi.Constr pMin[g1,h4]>, <gurobi.Constr pMax[g3,h2]>, <gurobi.Constr pMax[g3,h3]>, <gurobi.Constr pMax[g3,h1]>, <gurobi.Constr pMax[g3,h4]>, <gurobi.Constr pMax[g2,h2]>, <gurobi.Constr pMax[g2,h3]>, <gurobi.Constr pMax[g2,h1]>, <gurobi.Constr pMax[g2,h4]>, <gurobi.Constr pMax[g1,h2]>, <gurobi.Constr pMax[g1,h3]>, <gurobi.Constr pMax[g1,h1]>, <gurobi.Constr pMax[g1,h4]>, <gurobi.Constr meetDemand[h2]>, <gurobi.Constr meetDemand[h3]>, <gurobi.Constr meetDemand[h1]>, <gurobi.Constr meetDemand[h4]>, <gurobi.Constr rampDown[g3,h1]>, <gurobi.Constr rampDown[g3,h2]>, <gurobi.Constr rampDown[g3,h3]>, <gurobi.Constr rampDown[g3,h4]>, <gurobi.Constr rampDown[g2,h1]>, <gurobi.Constr rampDown[g2,h2]>, <gurobi.Constr rampDown[g2,h3]>, <gurobi.Constr rampDown[g2,h4]>, <gurobi.Constr rampDown[g1,h1]>, <gurobi.Constr rampDown[g1,h2]>, <gurobi.Constr rampDown[g1,h3]>, <gurobi.Constr rampDown[g1,h4]>]\n"
     ]
    }
   ],
   "source": [
    "print(m.getConstrs())"
   ]
  },
  {
   "cell_type": "code",
   "execution_count": null,
   "metadata": {
    "collapsed": false
   },
   "outputs": [],
   "source": [
    "#constraints\n",
    "def generation_r(model,i):\n",
    "    return (model.Pmin[i] , model.P[i] , model.Pmax[i])\n",
    "model.GenCon = Constraint(model.G, rule = generation_r)\n",
    "\n",
    "def demand_r(model):\n",
    "    return model.D == sum(model.P[i] for i in model.G)\n",
    "model.DemandCon = Constraint(model.G, rule = demand_r)\n",
    "\n",
    "def bus_r(model,i):\n",
    "    if i == 4:\n",
    "        return(-model.Loads[i] == \n",
    "              ((model.BaseP/model.X[i,i-1])*\n",
    "               (model.Angles[i]-model.Angles[i-1]) + \n",
    "               (model.BaseP/model.X[i,i-3])*\n",
    "               (model.Angles[i]-model.Angles[i-3])))\n",
    "    elif i == 1:\n",
    "        return((model.P[i] - model.Loads[i]) == \n",
    "              ((model.BaseP/model.X[i,i+1])*\n",
    "               (model.Angles[i]-model.Angles[i+1]) + \n",
    "               (model.BaseP/model.X[i,i+3])*\n",
    "               (model.Angles[i]-model.Angles[i+3])))    \n",
    "    else:\n",
    "        return((model.P[i] - model.Loads[i]) ==     \n",
    "              ((model.BaseP/model.X[i,i+1])*\n",
    "               (model.Angles[i]-model.Angles[i+1]) +\n",
    "               (model.BaseP/model.X[i,i-1])*\n",
    "               (model.Angles[i]-model.Angles[i-1])))\n",
    "model.BusCon = Constraint(model.Bus, rule=bus_r)\n",
    "\n",
    "def flow_r(model,i,j):\n",
    "    if i == j:\n",
    "        return Constraint.Skip\n",
    "    return (model.PFmin , \n",
    "            (model.BaseP/model.X[i,j])*(model.Angles[i]-model.Angles[j]) , \n",
    "            model.PFmax)\n",
    "model.FlowCon = Constraint(model.Bus, model.Bus, rule=flow_r)"
   ]
  },
  {
   "cell_type": "code",
   "execution_count": null,
   "metadata": {
    "collapsed": false
   },
   "outputs": [],
   "source": [
    "#objective\n",
    "def cost_rule(model):\n",
    "    return sum(model.a[i]*model.P[i] + \n",
    "               0.5*model.b[i]*model.P[i]**2\n",
    "              for i in model.G)\n",
    "#default is to minimize        \n",
    "model.OBJ = Objective(rule=cost_rule) "
   ]
  },
  {
   "cell_type": "code",
   "execution_count": null,
   "metadata": {
    "collapsed": true
   },
   "outputs": [],
   "source": [
    "# print(gens)\n",
    "# print(gen['gen3'].getAttr('UB'))\n",
    "\n",
    "#print(m.getObjective())\n",
    "# print(m.getConstrs())\n",
    "# print(m.getConstrs()[25])\n",
    "# print(m.getConstrs()[25].getAttr('sense'))\n",
    "# print(m.getConstrs()[25].getAttr('rhs'))\n",
    "\n",
    "# print reLevel\n",
    "\n",
    "# #number of variables\n",
    "# print(m.numVars)\n",
    "\n",
    "# print(maxGen['gen2'])\n",
    "# print(m.numVars)\n",
    "# print(genPhour)\n",
    "# print(genPhour['gen3','hour1'].getAttr('UB'))\n",
    "# print(genPhour['gen3','hour1'].getAttr('start'))\n",
    "# print(ujt['gen3','hour1'].getAttr('LB'))\n",
    "\n",
    "#variable for generations per unit\n",
    "#gen = m.addVars(gens, lb=0.0, ub=maxGen, name='gen')\n",
    "\n",
    "# m.addConstrs(\n",
    "# (quicksum(nutritionValues[f,c] * buy[f] for f in foods) == nutrition[c]\n",
    "# for c in categories), \"_\")\n",
    "\n",
    "# for t in range(4):\n",
    "#     if t2[t-1] == 'h5':\n",
    "#         print('t ' + t2[t])\n",
    "#         print('t-1 0')\n",
    "#         continue\n",
    "#     print('t ' + t2[t])\n",
    "#     print('t-1 ' + t2[t-1])"
   ]
  }
 ],
 "metadata": {
  "kernelspec": {
   "display_name": "Python 2",
   "language": "python",
   "name": "python2"
  },
  "language_info": {
   "codemirror_mode": {
    "name": "ipython",
    "version": 2
   },
   "file_extension": ".py",
   "mimetype": "text/x-python",
   "name": "python",
   "nbconvert_exporter": "python",
   "pygments_lexer": "ipython2",
   "version": "2.7.13"
  }
 },
 "nbformat": 4,
 "nbformat_minor": 2
}
