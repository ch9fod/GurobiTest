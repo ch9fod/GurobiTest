{
 "cells": [
  {
   "cell_type": "code",
   "execution_count": 11,
   "metadata": {
    "collapsed": false
   },
   "outputs": [],
   "source": [
    "from gurobipy import *\n",
    "# Model data\n",
    "generators, minGen, maxGen, a, b = multidict({\n",
    "'gen1': [20.0, 400.0, 20.0, 0.05],\n",
    "'gen2': [20.0, 300.0, 25.0, 0.10],\n",
    "'gen3': [30.0, 250.0, 40.0, 0.20] })\n",
    "\n",
    "buses, loads = multidict({\n",
    "'bus1': 0.0,\n",
    "'bus2': 0.0,\n",
    "'bus3': 200.0,\n",
    "'bus4': 400.0})\n",
    "\n",
    "MaxFlow = 300.0\n",
    "MinFlow = -300.0\n",
    "edges, minFlow, maxFlow, reactance = multidict({\n",
    "('Bus1', 'Bus2'): [MinFlow, MaxFlow, 0.007],\n",
    "('Bus2', 'Bus1'): [MinFlow, MaxFlow, 0.007],\n",
    "('Bus2', 'Bus3'): [MinFlow, MaxFlow, 0.01],\n",
    "('Bus3', 'Bus2'): [MinFlow, MaxFlow, 0.01],\n",
    "('Bus3', 'Bus4'): [MinFlow, MaxFlow, 0.006],\n",
    "('Bus4', 'Bus3'): [MinFlow, MaxFlow, 0.006],\n",
    "('Bus4', 'Bus1'): [MinFlow, MaxFlow, 0.05],\n",
    "('Bus1', 'Bus4'): [MinFlow, MaxFlow, 0.05]})"
   ]
  },
  {
   "cell_type": "code",
   "execution_count": 13,
   "metadata": {
    "collapsed": false
   },
   "outputs": [
    {
     "name": "stdout",
     "output_type": "stream",
     "text": [
      "{'gen2': 0.1, 'gen3': 0.2, 'gen1': 0.05}\n"
     ]
    }
   ],
   "source": [
    "print(b)"
   ]
  },
  {
   "cell_type": "code",
   "execution_count": null,
   "metadata": {
    "collapsed": false
   },
   "outputs": [],
   "source": [
    "#parameters\n",
    "model.a = Param(model.G, initialize={1:20.0 , 2:25.0 , 3:40.0}, \n",
    "                doc='Parameter a')\n",
    "model.b = Param(model.G, initialize={1:0.05 , 2:0.10 , 3:0.20}, \n",
    "                doc='Parameter b')\n",
    "#lone parameter, constant\n",
    "model.D = Param(initialize=600.0, doc='Load')"
   ]
  },
  {
   "cell_type": "code",
   "execution_count": null,
   "metadata": {
    "collapsed": true
   },
   "outputs": [],
   "source": [
    "#variables\n",
    "model.P = Var(model.G, doc='Generation per Generator')\n",
    "model.Angles = Var(model.Bus, doc='Angles of Buses')"
   ]
  },
  {
   "cell_type": "code",
   "execution_count": null,
   "metadata": {
    "collapsed": false
   },
   "outputs": [],
   "source": [
    "#constraints\n",
    "def generation_r(model,i):\n",
    "    return (model.Pmin[i] , model.P[i] , model.Pmax[i])\n",
    "model.GenCon = Constraint(model.G, rule = generation_r)\n",
    "\n",
    "def demand_r(model):\n",
    "    return model.D == sum(model.P[i] for i in model.G)\n",
    "model.DemandCon = Constraint(model.G, rule = demand_r)\n",
    "\n",
    "def slack_r(model):\n",
    "    return model.Angles[1] == 0\n",
    "model.SlackBusCon = Constraint(rule=slack_r)\n",
    "\n",
    "def bus_r(model,i):\n",
    "    if i == 4:\n",
    "        return(-model.Loads[i] == \n",
    "              ((model.BaseP/model.X[i,i-1])*\n",
    "               (model.Angles[i]-model.Angles[i-1]) + \n",
    "               (model.BaseP/model.X[i,i-3])*\n",
    "               (model.Angles[i]-model.Angles[i-3])))\n",
    "    elif i == 1:\n",
    "        return((model.P[i] - model.Loads[i]) == \n",
    "              ((model.BaseP/model.X[i,i+1])*\n",
    "               (model.Angles[i]-model.Angles[i+1]) + \n",
    "               (model.BaseP/model.X[i,i+3])*\n",
    "               (model.Angles[i]-model.Angles[i+3])))    \n",
    "    else:\n",
    "        return((model.P[i] - model.Loads[i]) ==     \n",
    "              ((model.BaseP/model.X[i,i+1])*\n",
    "               (model.Angles[i]-model.Angles[i+1]) +\n",
    "               (model.BaseP/model.X[i,i-1])*\n",
    "               (model.Angles[i]-model.Angles[i-1])))\n",
    "model.BusCon = Constraint(model.Bus, rule=bus_r)\n",
    "\n",
    "def flow_r(model,i,j):\n",
    "    if i == j:\n",
    "        return Constraint.Skip\n",
    "    return (model.PFmin , \n",
    "            (model.BaseP/model.X[i,j])*(model.Angles[i]-model.Angles[j]) , \n",
    "            model.PFmax)\n",
    "model.FlowCon = Constraint(model.Bus, model.Bus, rule=flow_r)"
   ]
  },
  {
   "cell_type": "code",
   "execution_count": null,
   "metadata": {
    "collapsed": false
   },
   "outputs": [],
   "source": [
    "#objective\n",
    "def cost_rule(model):\n",
    "    return sum(model.a[i]*model.P[i] + \n",
    "               0.5*model.b[i]*model.P[i]**2\n",
    "              for i in model.G)\n",
    "#default is to minimize        \n",
    "model.OBJ = Objective(rule=cost_rule) "
   ]
  },
  {
   "cell_type": "code",
   "execution_count": null,
   "metadata": {
    "collapsed": false
   },
   "outputs": [],
   "source": [
    "if solverexe == \"gurobi\":\n",
    "    solver = SolverFactory(solverexe)   \n",
    "else:\n",
    "    solver = SolverFactory(solverexe, \n",
    "                           executable=os.path.join(dirsolver, solverexe))\n",
    "instance = model.create_instance()\n",
    "instance.dual = Suffix(direction=Suffix.IMPORT)\n",
    "results = solver.solve(instance)"
   ]
  },
  {
   "cell_type": "code",
   "execution_count": null,
   "metadata": {
    "collapsed": false
   },
   "outputs": [],
   "source": [
    "instance.display()"
   ]
  },
  {
   "cell_type": "code",
   "execution_count": null,
   "metadata": {
    "collapsed": false
   },
   "outputs": [],
   "source": [
    "instance.pprint()"
   ]
  },
  {
   "cell_type": "code",
   "execution_count": null,
   "metadata": {
    "collapsed": false
   },
   "outputs": [],
   "source": [
    "print (\"Total cost: \", \"{:,}\".format(round(value(instance.OBJ),2)))"
   ]
  },
  {
   "cell_type": "code",
   "execution_count": null,
   "metadata": {
    "collapsed": false
   },
   "outputs": [],
   "source": [
    "print (\"Duals\")\n",
    "from pyomo.core import Constraint\n",
    "for c in instance.component_objects(Constraint, active=True):\n",
    "    print (\"   Constraint\",c)\n",
    "    cobject = getattr(instance, str(c))\n",
    "    for index in cobject:\n",
    "        print (\"      \", index, instance.dual[cobject[index]])"
   ]
  }
 ],
 "metadata": {
  "kernelspec": {
   "display_name": "Python 2",
   "language": "python",
   "name": "python2"
  },
  "language_info": {
   "codemirror_mode": {
    "name": "ipython",
    "version": 2
   },
   "file_extension": ".py",
   "mimetype": "text/x-python",
   "name": "python",
   "nbconvert_exporter": "python",
   "pygments_lexer": "ipython2",
   "version": "2.7.13"
  }
 },
 "nbformat": 4,
 "nbformat_minor": 2
}
